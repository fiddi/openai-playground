{
 "cells": [
  {
   "attachments": {},
   "cell_type": "markdown",
   "metadata": {},
   "source": [
    "Connect to Azure Open AI API "
   ]
  },
  {
   "cell_type": "code",
   "execution_count": null,
   "metadata": {},
   "outputs": [],
   "source": [
    "import os\n",
    "import openai\n",
    "from dotenv import load_dotenv\n",
    "\n",
    "load_dotenv()\n",
    "\n",
    "openai.api_type = \"azure\"\n",
    "openai.api_version = \"2023-07-01-preview\" \n",
    "openai.api_base = os.getenv('OPENAI_API_BASE')  \n",
    "openai.api_key = os.getenv('OPENAI_API_KEY') "
   ]
  },
  {
   "attachments": {},
   "cell_type": "markdown",
   "metadata": {},
   "source": [
    "Doing some sample calls to ChatGPT"
   ]
  },
  {
   "cell_type": "code",
   "execution_count": null,
   "metadata": {},
   "outputs": [],
   "source": [
    "response = openai.ChatCompletion.create(\n",
    "    engine=\"qpt-4-32k\",  # \"gpt-35-turbo\" \"qpt-4-32k\" \n",
    "    messages=[\n",
    "        {\"role\": \"system\", \"content\": \"Assistant is a large language model trained by OpenAI.\"},\n",
    "        {\"role\": \"user\", \"content\": \"Tell me a funny joke about SharePoint\"}\n",
    "    ]\n",
    ")\n",
    "print(response['choices'][0]['message']['content'])"
   ]
  },
  {
   "attachments": {},
   "cell_type": "markdown",
   "metadata": {},
   "source": [
    "Asking ChatGPT to summarize a document"
   ]
  },
  {
   "cell_type": "code",
   "execution_count": null,
   "metadata": {},
   "outputs": [],
   "source": [
    "import docx\n",
    "from docx import Document\n",
    "import sys\n",
    "\n",
    "def summarize_text(text_to_summarize):\n",
    "    response = openai.ChatCompletion.create(\n",
    "        engine=\"qpt-4-32k\",  # \"gpt-35-turbo\" \"qpt-4-32k\" \n",
    "        messages=[\n",
    "            {\"role\": \"system\", \"content\": \"Assistant summarize a meeting transcript with a reading time of 30 seconds\"},\n",
    "            {\"role\": \"user\", \"content\": text_to_summarize}\n",
    "        ]\n",
    "    )\n",
    "    return response['choices'][0]['message']['content']\n",
    "\n",
    "def summarize_meeting_transcript(input_file):\n",
    "    doc = docx.Document(input_file)\n",
    "    all_paras = doc.paragraphs\n",
    "\n",
    "    summary = Document()\n",
    "\n",
    "    meeting_transcript = \"\"\n",
    "    for para in all_paras:\n",
    "        lines = para.text.split(\"\\n\")\n",
    "        if len(lines) == 3:\n",
    "            # For meeting transcript\n",
    "            speaker, speech = lines[1], lines[2]\n",
    "            meeting_transcript += f\"\\n{speaker}: {speech}\"\n",
    "        else:\n",
    "            meeting_transcript += f\"\\n{para.text}\"\n",
    "\n",
    "    chunk_size = 100000\n",
    "    for i in range(0, len(meeting_transcript), chunk_size):\n",
    "        chunk = meeting_transcript[i:i+chunk_size]\n",
    "        print(f\"Working on chunk {i//chunk_size+1} of {len(meeting_transcript)//chunk_size+1}\")\n",
    "        summary.add_paragraph(summarize_text(chunk))\n",
    "\n",
    "    summary_file = input_file.split(\".\")[0] + \" in 30 seconds.docx\"\n",
    "    summary.save(summary_file)\n",
    "    print(f\"\\nFinished summarizing meeting transcript. Summary saved to {summary_file}\")\n",
    "\n",
    "summarize_meeting_transcript(\"Archidevs_Exchange_2023-02-20.docx\")"
   ]
  }
 ],
 "metadata": {
  "kernelspec": {
   "display_name": "Python 3",
   "language": "python",
   "name": "python3"
  },
  "language_info": {
   "codemirror_mode": {
    "name": "ipython",
    "version": 3
   },
   "file_extension": ".py",
   "mimetype": "text/x-python",
   "name": "python",
   "nbconvert_exporter": "python",
   "pygments_lexer": "ipython3",
   "version": "3.11.4"
  },
  "orig_nbformat": 4
 },
 "nbformat": 4,
 "nbformat_minor": 2
}
