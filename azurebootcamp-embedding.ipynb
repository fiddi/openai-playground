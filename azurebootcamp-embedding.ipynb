{
 "cells": [
  {
   "attachments": {},
   "cell_type": "markdown",
   "metadata": {},
   "source": [
    "Connect to Azure Open AI API "
   ]
  },
  {
   "cell_type": "code",
   "execution_count": null,
   "metadata": {},
   "outputs": [],
   "source": [
    "import os\n",
    "import openai\n",
    "from langchain.embeddings import OpenAIEmbeddings\n",
    "from dotenv import load_dotenv\n",
    "from openai.embeddings_utils import cosine_similarity\n",
    "\n",
    "load_dotenv()\n",
    "\n",
    "openai.api_type = \"azure\"\n",
    "openai.api_version = \"2023-07-01-preview\" \n",
    "openai.api_base = os.getenv('OPENAI_API_BASE')  \n",
    "openai.api_key = os.getenv('OPENAI_API_KEY') \n",
    "\n",
    "embeddings = OpenAIEmbeddings(model=\"text-embedding-ada-002\", engine=\"text-embedding-ada-002\", chunk_size=1)"
   ]
  },
  {
   "attachments": {},
   "cell_type": "markdown",
   "metadata": {},
   "source": [
    "Generating the first embeddings"
   ]
  },
  {
   "cell_type": "code",
   "execution_count": null,
   "metadata": {},
   "outputs": [],
   "source": [
    "e = embeddings.embed_query(\"Azure Bootcamp\", )\n",
    "print(e)"
   ]
  },
  {
   "attachments": {},
   "cell_type": "markdown",
   "metadata": {},
   "source": [
    "Cosine similarity measures the similarity between two vectors of an inner product space."
   ]
  },
  {
   "cell_type": "code",
   "execution_count": null,
   "metadata": {},
   "outputs": [],
   "source": [
    "def calculateSimilarity(word1, word2):\n",
    "    e1 = embeddings.embed_query(word1)\n",
    "    e2 = embeddings.embed_query(word2)\n",
    "    print (f'{word1} vs {word2}  \\nSimilarity: {cosine_similarity(e1, e2)}')"
   ]
  },
  {
   "cell_type": "code",
   "execution_count": null,
   "metadata": {},
   "outputs": [],
   "source": [
    "calculateSimilarity(\"King\",\"Queen\")\n",
    "calculateSimilarity(\"King\",\"Beggar\")\n",
    "calculateSimilarity(\"King\",\"König\")"
   ]
  },
  {
   "cell_type": "code",
   "execution_count": null,
   "metadata": {},
   "outputs": [],
   "source": [
    "calculateSimilarity(\"Madrid\",\"Barcelona\")\n",
    "\n",
    "# vs. Thun, Zurich, Singapore"
   ]
  },
  {
   "cell_type": "code",
   "execution_count": null,
   "metadata": {},
   "outputs": [],
   "source": [
    "calculateSimilarity(\"SC Bern\",\"Schweizermeister\")\n",
    "calculateSimilarity(\"HC Fribourg-Gottéron\",\"Schweizermeister\")\n",
    "calculateSimilarity(\"FC Basel\",\"Schweizermeister\")"
   ]
  },
  {
   "attachments": {},
   "cell_type": "markdown",
   "metadata": {},
   "source": [
    "Import a list of sessions of the Azure Bootcamp Switzerland 2023 and find similar sessions"
   ]
  },
  {
   "cell_type": "code",
   "execution_count": null,
   "metadata": {},
   "outputs": [],
   "source": [
    "import pandas as pd\n",
    "\n",
    "sessions = pd.read_csv('./sessions.csv')\n",
    "sessions.head()"
   ]
  },
  {
   "attachments": {},
   "cell_type": "markdown",
   "metadata": {},
   "source": [
    "Add a new column and calculate the embeddings."
   ]
  },
  {
   "cell_type": "code",
   "execution_count": null,
   "metadata": {},
   "outputs": [],
   "source": [
    "sessions['embedding'] = sessions['Content'].apply(lambda x: embeddings.embed_query(x))\n",
    "sessions.head()"
   ]
  },
  {
   "attachments": {},
   "cell_type": "markdown",
   "metadata": {},
   "source": [
    "Find similar sessions"
   ]
  },
  {
   "cell_type": "code",
   "execution_count": null,
   "metadata": {},
   "outputs": [],
   "source": [
    "preffered_session = \"powerbi\" # \"avnm\" \"quantum\" \"powerbi\"\n",
    "e = sessions[sessions['Key'] == preffered_session]['embedding'].values[0]\n",
    "\n",
    "similar_sessions = sessions['embedding'].apply(lambda x: cosine_similarity(x, e))\n",
    "\n",
    "recommandations=pd.concat([sessions['Title'],sessions['Speaker'],similar_sessions], axis=1).sort_values(by='embedding', ascending=False)\n",
    "recommandations.head()"
   ]
  }
 ],
 "metadata": {
  "kernelspec": {
   "display_name": "Python 3",
   "language": "python",
   "name": "python3"
  },
  "language_info": {
   "codemirror_mode": {
    "name": "ipython",
    "version": 3
   },
   "file_extension": ".py",
   "mimetype": "text/x-python",
   "name": "python",
   "nbconvert_exporter": "python",
   "pygments_lexer": "ipython3",
   "version": "3.11.4"
  },
  "orig_nbformat": 4
 },
 "nbformat": 4,
 "nbformat_minor": 2
}
